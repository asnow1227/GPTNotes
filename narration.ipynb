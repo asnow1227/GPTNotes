{
 "cells": [
  {
   "cell_type": "code",
   "execution_count": 1,
   "id": "39f761c9",
   "metadata": {},
   "outputs": [],
   "source": [
    "import openai\n",
    "import json\n",
    "with open(\"api_key.json\") as f:\n",
    "    openai.api_key = json.loads(f.read())[\"key\"]"
   ]
  },
  {
   "cell_type": "code",
   "execution_count": 43,
   "id": "c69aa8b3",
   "metadata": {},
   "outputs": [],
   "source": [
    "bullets =  {\n",
    "    \"type\": \"array\",\n",
    "    \"items\": {\n",
    "        \"type\": \"object\",\n",
    "        \"properties\": {\n",
    "            \"main_bullet\": {\n",
    "                \"type\": \"string\",\n",
    "                \"description\": \"a main-bullet for the section being covered\"\n",
    "            },\n",
    "            \"sub_bullets\": {\n",
    "                \"type\": \"array\",\n",
    "                \"items\": {\n",
    "                    \"type\": \"string\",\n",
    "                    \"description\": \"sub-bullets for a main-bullet of the section being covered, if applicable\"\n",
    "                }\n",
    "            }\n",
    "        },\n",
    "        \"required\": ['main_bullet']\n",
    "    },\n",
    "    \"description\": \"Bullet points to summarize the section being covered.\"\n",
    "}"
   ]
  },
  {
   "cell_type": "code",
   "execution_count": 44,
   "id": "47722435",
   "metadata": {},
   "outputs": [],
   "source": [
    "functions_bp = [{\n",
    "    \"name\": \"generate_bullet_points\",\n",
    "    \"description\": \"use this function to create bullet points for each section of the primer.\",\n",
    "    \"parameters\": {\n",
    "        \"type\": \"object\",\n",
    "        \"properties\": {\n",
    "            \"sections\": {\n",
    "                \"type\": \"array\",\n",
    "                \"items\": {\n",
    "                    \"type\": \"object\",\n",
    "                    \"properties\": {\n",
    "                        \"bullets\": bullets,\n",
    "                        \"title\": {\n",
    "                            \"type\": \"string\",\n",
    "                            \"enum\": []\n",
    "                        },\n",
    "                    }\n",
    "                },\n",
    "                \"description\": \"An array of bullet points to return for each section of the primer.\"\n",
    "            }\n",
    "        },\n",
    "        \"required\": [\"sections\"]\n",
    "    }\n",
    "}]\n",
    "functions_n = [{\n",
    "    \"name\": \"generate_narrations\",\n",
    "    \"decscription\": \"use this function to create the narrations for each section of the primer.\",\n",
    "    \"parameters\": {\n",
    "        \"type\": \"object\",\n",
    "        \"properties\": {\n",
    "            \"sections\": {\n",
    "                \"type\": \"array\",\n",
    "                \"items\": {\n",
    "                    \"type\": \"object\",\n",
    "                    \"properties\": {\n",
    "                        \"title\": {\n",
    "                            \"type\": \"string\",\n",
    "                            \"description\": \"The title of the section being covered.\"\n",
    "                        },\n",
    "                        \"narration\": {\n",
    "                            \"type\": \"string\",\n",
    "                            \"description\": \"A narration for a section of the primer.\"\n",
    "                        }\n",
    "                    }\n",
    "                },\n",
    "                \"description\": \"An array of narrations for each section of the primer.\"\n",
    "            }\n",
    "        },\n",
    "        \"required\": [\"sections\"]\n",
    "    },\n",
    "}]"
   ]
  },
  {
   "cell_type": "code",
   "execution_count": 45,
   "id": "71cf1182",
   "metadata": {},
   "outputs": [],
   "source": [
    "def set_bullet_title_enums(section_titles):\n",
    "    functions_bp[0]['parameters']['properties']['sections']['items']['properties']['title']['enum'] = section_titles"
   ]
  },
  {
   "cell_type": "code",
   "execution_count": 48,
   "id": "e04a4ed9",
   "metadata": {},
   "outputs": [],
   "source": [
    "def generate_primer(topic, messages=None):\n",
    "    messages = [] if messages is None else messages\n",
    "    messages.append({\n",
    "        \"role\": \"user\",\n",
    "        \"content\": f\"Generate a primer on {topic}. The primer should include an introduction, named sections, and a conclusion. Do not number any of the sections.\"\n",
    "    })\n",
    "    response = openai.ChatCompletion.create(\n",
    "        model=\"gpt-3.5-turbo-0613\",\n",
    "        messages=messages, \n",
    "    )\n",
    "    \n",
    "    messages.append(response[\"choices\"][0][\"message\"])\n",
    "    messages.append({\"role\": \"user\", \"content\": \"Narrate each section of the primer, as if it were being presented to an audience. Elaborate on the content within each section.\"})\n",
    "    response = openai.ChatCompletion.create(\n",
    "        model=\"gpt-3.5-turbo-0613\",\n",
    "        messages=messages,\n",
    "        functions=functions_n,\n",
    "        function_call=\"auto\",  # auto is default, but we'll be explicit\n",
    "    )\n",
    "    narrations = json.loads(response[\"choices\"][0][\"message\"]['function_call']['arguments'])\n",
    "    set_bullet_title_enums([section['title'] for section in narrations['sections']])\n",
    "    \n",
    "    messages.pop()\n",
    "    messages.append({\"role\": \"user\", \"content\": \"Create bullet points for each section of the primer (including the introduction and conclusion), similar to a PowerPoint presentation.\"})\n",
    "    response = openai.ChatCompletion.create(\n",
    "        model=\"gpt-3.5-turbo-0613\",\n",
    "        messages=messages,\n",
    "        functions=functions_bp,\n",
    "        function_call=\"auto\",  # auto is default, but we'll be explicit\n",
    "    )\n",
    "    bullets = json.loads(response[\"choices\"][0][\"message\"]['function_call']['arguments'])\n",
    "    set_bullet_title_enums([])\n",
    "    return messages, bullets, narrations\n",
    "    \n"
   ]
  },
  {
   "cell_type": "code",
   "execution_count": 49,
   "id": "0e0ece8b",
   "metadata": {},
   "outputs": [],
   "source": [
    "messages, bullets, narrations = generate_primer('Investment Banking')"
   ]
  },
  {
   "cell_type": "code",
   "execution_count": 52,
   "id": "d803f492",
   "metadata": {},
   "outputs": [
    {
     "data": {
      "text/plain": [
       "{'sections': [{'title': 'Introduction',\n",
       "   'bullets': [{'main_bullet': 'Investment banking overview',\n",
       "     'sub_bullets': []}]},\n",
       "  {'title': 'Definition and Scope',\n",
       "   'bullets': [{'main_bullet': 'Broad range of financial services',\n",
       "     'sub_bullets': ['Capital raising',\n",
       "      'Mergers and acquisitions',\n",
       "      'Asset management',\n",
       "      'Sales and trading']}]},\n",
       "  {'title': 'Investment Banking Services',\n",
       "   'bullets': [{'main_bullet': 'Capital Raising', 'sub_bullets': []},\n",
       "    {'main_bullet': 'Mergers and Acquisitions (M&A)', 'sub_bullets': []},\n",
       "    {'main_bullet': 'Asset Management', 'sub_bullets': []},\n",
       "    {'main_bullet': 'Sales and Trading', 'sub_bullets': []}]},\n",
       "  {'title': 'Investment Banking Roles and Departments',\n",
       "   'bullets': [{'main_bullet': 'Front Office',\n",
       "     'sub_bullets': ['Corporate finance',\n",
       "      'Mergers and acquisitions',\n",
       "      'Sales and trading']},\n",
       "    {'main_bullet': 'Middle Office',\n",
       "     'sub_bullets': ['Risk management', 'Compliance', 'Operations']},\n",
       "    {'main_bullet': 'Back Office',\n",
       "     'sub_bullets': ['Settlement', 'Clearance', 'Record-keeping']}]},\n",
       "  {'title': 'Global Investment Banking Centers',\n",
       "   'bullets': [{'main_bullet': 'Major financial centers',\n",
       "     'sub_bullets': ['New York', 'London', 'Hong Kong']}]},\n",
       "  {'title': 'Regulations and Challenges',\n",
       "   'bullets': [{'main_bullet': 'Regulatory oversight',\n",
       "     'sub_bullets': ['Market integrity',\n",
       "      'Investor protection',\n",
       "      'Financial stability']},\n",
       "    {'main_bullet': 'Challenges',\n",
       "     'sub_bullets': ['Changing regulatory landscapes',\n",
       "      'Evolving technology',\n",
       "      'Market fluctuations']}]},\n",
       "  {'title': 'Conclusion',\n",
       "   'bullets': [{'main_bullet': 'Investment banking as a driver of economic growth',\n",
       "     'sub_bullets': ['Facilitating capital allocation',\n",
       "      'Advising on strategic transactions',\n",
       "      'Managing assets']},\n",
       "    {'main_bullet': 'Importance of investment banking in the global financial ecosystem'}]}]}"
      ]
     },
     "execution_count": 52,
     "metadata": {},
     "output_type": "execute_result"
    }
   ],
   "source": [
    "bullets"
   ]
  },
  {
   "cell_type": "code",
   "execution_count": 6,
   "id": "ea137e30",
   "metadata": {},
   "outputs": [],
   "source": [
    "from pptx import Presentation\n",
    "from pptx.util import Inches\n",
    "import json\n",
    "import datetime as dt"
   ]
  },
  {
   "cell_type": "code",
   "execution_count": 22,
   "id": "296ebcbf",
   "metadata": {},
   "outputs": [],
   "source": [
    "today = dt.datetime.today().strftime(\"%m/%d/%Y\")"
   ]
  },
  {
   "cell_type": "code",
   "execution_count": 110,
   "id": "4295859b",
   "metadata": {},
   "outputs": [],
   "source": [
    "prs = Presentation('BaseTemplate.pptx')"
   ]
  },
  {
   "cell_type": "code",
   "execution_count": 4,
   "id": "78488585",
   "metadata": {},
   "outputs": [],
   "source": [
    "topic = 'Investment Banking'"
   ]
  },
  {
   "cell_type": "code",
   "execution_count": 112,
   "id": "764cb12b",
   "metadata": {},
   "outputs": [],
   "source": [
    "def set_title_slide(prs, topic, date):\n",
    "    prs.slides[0].placeholders[0].text = f'Primer on {topic}'\n",
    "    prs.slides[0].placeholders[1].text = f'Content and Narrations Generated by Chat-GPT \\n {date}'"
   ]
  },
  {
   "cell_type": "code",
   "execution_count": 113,
   "id": "51343efb",
   "metadata": {},
   "outputs": [],
   "source": [
    "def delete_paragraph(paragraph):\n",
    "    p = paragraph._p\n",
    "    parent_element = p.getparent()\n",
    "    parent_element.remove(p)\n",
    "\n",
    "def add_bullet(text_frame, bullet, level):\n",
    "    p = text_frame.add_paragraph()\n",
    "    run = p.add_run()\n",
    "    p.level = level\n",
    "    run.text = bullet\n",
    "\n",
    "def add_content_to_slide(slide, slide_title, bullets):\n",
    "    title_frame = slide.placeholders[0].text_frame\n",
    "    title_frame.text = slide_title\n",
    "    body_frame = slide.placeholders[1].text_frame\n",
    "    delete_paragraph(body_frame.paragraphs[0])\n",
    "    for bullet in bullets:\n",
    "        main_bullet = bullet['main_bullet']\n",
    "        add_bullet(body_frame, main_bullet, 0)\n",
    "        for sub_bullet in bullet.get('sub_bullets', []):\n",
    "            add_bullet(body_frame, sub_bullet, 1)\n",
    "        add_bullet(body_frame, \"\", 0)"
   ]
  },
  {
   "cell_type": "code",
   "execution_count": 114,
   "id": "6d275e90",
   "metadata": {},
   "outputs": [],
   "source": [
    "def make_presentation(topic, slides_content, template='BaseTemplate.pptx'):\n",
    "    prs = Presentation(template)\n",
    "    slide_positions = {}\n",
    "    set_title_slide(prs, topic, today)\n",
    "    for i, slide_content in enumerate(slides_content, 2):\n",
    "        slide = prs.slides.add_slide(prs.slide_layouts[1])\n",
    "        add_content_to_slide(slide, slide_content['title'], slide_content['bullets'])\n",
    "        slide_positions[slide_content['title']] = i\n",
    "    return prs, slide_positions"
   ]
  },
  {
   "cell_type": "code",
   "execution_count": 115,
   "id": "3a9d6238",
   "metadata": {},
   "outputs": [],
   "source": [
    "prs, slide_positions = make_presentation('Investment Banking', bullets['sections'])"
   ]
  },
  {
   "cell_type": "code",
   "execution_count": 116,
   "id": "d1b69385",
   "metadata": {},
   "outputs": [],
   "source": [
    "prs.save(\"example.pptx\")"
   ]
  },
  {
   "cell_type": "code",
   "execution_count": null,
   "id": "d4648d2a",
   "metadata": {},
   "outputs": [],
   "source": [
    "def create_ppt(topic, bullets, outdir='.'):\n",
    "    prs = Prs()"
   ]
  },
  {
   "cell_type": "code",
   "execution_count": 117,
   "id": "ddd3c0b8",
   "metadata": {},
   "outputs": [],
   "source": [
    "with open(\"ib.json\", 'w') as f:\n",
    "    f.write(json.dumps({\n",
    "        \"bullets\": bullets,\n",
    "        \"narrations\": narrations\n",
    "    }))"
   ]
  },
  {
   "cell_type": "code",
   "execution_count": 7,
   "id": "1efe1af5",
   "metadata": {},
   "outputs": [],
   "source": [
    "with open('ib.json', 'r') as f:\n",
    "    data = json.loads(f.read())"
   ]
  },
  {
   "cell_type": "code",
   "execution_count": 1,
   "id": "67637047",
   "metadata": {},
   "outputs": [],
   "source": [
    "import os"
   ]
  },
  {
   "cell_type": "code",
   "execution_count": 2,
   "id": "02cbd336",
   "metadata": {},
   "outputs": [],
   "source": [
    "def make_dirs(topic_dir):\n",
    "    os.mkdir(topic_dir)\n",
    "    os.mkdir(os.path.join(topic_dir, 'Slides'))\n",
    "    os.mkdir(os.path.join(topic_dir, 'Images'))\n",
    "    os.mkdir(os.path.join(topic_dir, 'Audio'))\n",
    "    os.mkdir(os.path.join(topic_dir, 'Configs'))"
   ]
  },
  {
   "cell_type": "code",
   "execution_count": 8,
   "id": "7d67b651",
   "metadata": {},
   "outputs": [],
   "source": [
    "base_dir = 'Outputs'\n",
    "topic_dir = os.path.join(base_dir, topic)\n",
    "if not os.path.isdir(topic_dir):\n",
    "    make_dirs(topic_dir)"
   ]
  },
  {
   "cell_type": "code",
   "execution_count": 13,
   "id": "d807e962",
   "metadata": {},
   "outputs": [],
   "source": [
    "from gtts import gTTS"
   ]
  },
  {
   "cell_type": "code",
   "execution_count": 15,
   "id": "541a496a",
   "metadata": {},
   "outputs": [],
   "source": [
    "for narration_info in data['narrations']['sections']:\n",
    "    tts = gTTS(narration_info['narration'])\n",
    "    title = narration_info['title']\n",
    "    audio_dir = os.path.join(topic_dir, 'Audio')\n",
    "    file_path = os.path.join(audio_dir, f'{title}.mp3')\n",
    "    tts.save(file_path)"
   ]
  },
  {
   "cell_type": "code",
   "execution_count": 11,
   "id": "a57ccf62",
   "metadata": {},
   "outputs": [],
   "source": [
    "import pyttsx3\n",
    "converter = pyttsx3.init()"
   ]
  },
  {
   "cell_type": "code",
   "execution_count": 12,
   "id": "aea06a74",
   "metadata": {},
   "outputs": [
    {
     "name": "stdout",
     "output_type": "stream",
     "text": [
      "Voice:\n",
      "ID: HKEY_LOCAL_MACHINE\\SOFTWARE\\Microsoft\\Speech\\Voices\\Tokens\\TTS_MS_EN-US_DAVID_11.0\n",
      "Name: Microsoft David Desktop - English (United States)\n",
      "Age: None\n",
      "Gender: None\n",
      "Languages Known: []\n",
      "Voice:\n",
      "ID: HKEY_LOCAL_MACHINE\\SOFTWARE\\Microsoft\\Speech\\Voices\\Tokens\\TTS_MS_EN-US_ZIRA_11.0\n",
      "Name: Microsoft Zira Desktop - English (United States)\n",
      "Age: None\n",
      "Gender: None\n",
      "Languages Known: []\n"
     ]
    }
   ],
   "source": [
    "voices = converter.getProperty('voices')\n",
    "for voice in voices:\n",
    "    # to get the info. about various voices in our PC \n",
    "    print(\"Voice:\")\n",
    "    print(\"ID: %s\" %voice.id)\n",
    "    print(\"Name: %s\" %voice.name)\n",
    "    print(\"Age: %s\" %voice.age)\n",
    "    print(\"Gender: %s\" %voice.gender)\n",
    "    print(\"Languages Known: %s\" %voice.languages)"
   ]
  },
  {
   "cell_type": "code",
   "execution_count": 15,
   "id": "fb5bb30e",
   "metadata": {},
   "outputs": [],
   "source": [
    "for narration_info in data['narrations']['sections']:\n",
    "    title = narration_info['title']\n",
    "    audio_dir = os.path.join(topic_dir, 'Audio')\n",
    "    file_path = os.path.join(audio_dir, f'{title}.mp3')\n",
    "    converter.save_to_file(narration_info['narration'], file_path)\n",
    "    converter.runAndWait()"
   ]
  },
  {
   "cell_type": "code",
   "execution_count": null,
   "id": "7d21bd3b",
   "metadata": {},
   "outputs": [],
   "source": []
  }
 ],
 "metadata": {
  "kernelspec": {
   "display_name": "Python 3 (ipykernel)",
   "language": "python",
   "name": "python3"
  },
  "language_info": {
   "codemirror_mode": {
    "name": "ipython",
    "version": 3
   },
   "file_extension": ".py",
   "mimetype": "text/x-python",
   "name": "python",
   "nbconvert_exporter": "python",
   "pygments_lexer": "ipython3",
   "version": "3.11.4"
  }
 },
 "nbformat": 4,
 "nbformat_minor": 5
}
